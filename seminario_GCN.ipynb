{
  "cells": [
    {
      "cell_type": "code",
      "execution_count": null,
      "metadata": {
        "colab": {
          "base_uri": "https://localhost:8080/"
        },
        "id": "nw6MqZKbxrKI",
        "outputId": "75bc7ba9-aa00-4b59-9106-0c5dcb63474a"
      },
      "outputs": [],
      "source": [
        "# ============================================================\n",
        "# Instalação de pacotes no Google Colab\n",
        "# ============================================================\n",
        "!pip install torch torchvision torchaudio torch-geometric\n",
        "!pip install networkx matplotlib"
      ]
    },
    {
      "cell_type": "code",
      "execution_count": null,
      "metadata": {
        "colab": {
          "base_uri": "https://localhost:8080/"
        },
        "id": "3M5y8UmYxtOW",
        "outputId": "98690d58-5ead-4daf-f5bd-40640e489623"
      },
      "outputs": [],
      "source": [
        "# ============================================================\n",
        "# Importações\n",
        "# ============================================================\n",
        "import torch\n",
        "import torch.nn as nn\n",
        "import torch.nn.functional as F\n",
        "import torch.optim as optim\n",
        "import networkx as nx\n",
        "import matplotlib.pyplot as plt\n",
        "import matplotlib.colors as mcolors\n",
        "import numpy as np\n",
        "import copy\n",
        "from torch_geometric.datasets import Planetoid\n",
        "from torch_geometric.utils import to_dense_adj\n",
        "from sklearn.metrics import confusion_matrix, ConfusionMatrixDisplay\n",
        "\n",
        "# Semente para reprodutibilidade (gera os mesmos resultados em diferentes execuções)\n",
        "seed = 42\n",
        "np.random.seed(seed)\n",
        "torch.manual_seed(seed)"
      ]
    },
    {
      "cell_type": "code",
      "execution_count": null,
      "metadata": {
        "colab": {
          "base_uri": "https://localhost:8080/"
        },
        "id": "hY_iKzW09fUM",
        "outputId": "bc852b44-ae1b-46ff-c73e-a2bda1499be0"
      },
      "outputs": [],
      "source": [
        "# -----------------------------------------------\n",
        "# Carregar o dataset Cora\n",
        "# -----------------------------------------------\n",
        "# Dataset de citações: cada nó é um artigo e cada aresta representa uma citação entre artigos.\n",
        "# A tarefa é classificar os artigos de acordo com o tema (7 classes).\n",
        "\n",
        "dataset = Planetoid(root='data/Cora', name='Cora')\n",
        "data = dataset[0]\n",
        "\n",
        "print(f\"Dataset: {dataset.name}\")\n",
        "print(f\"Nós: {data.num_nodes}, Arestas: {data.num_edges // 2}, Features: {data.num_features}, Classes: {dataset.num_classes}\")"
      ]
    },
    {
      "cell_type": "code",
      "execution_count": null,
      "metadata": {
        "id": "paulqAmm-PQV"
      },
      "outputs": [],
      "source": [
        "# -----------------------------------------------\n",
        "# Converter dados para formato compatível\n",
        "# -----------------------------------------------\n",
        "# Obtemos matriz de adjacência e matriz de features\n",
        "A = to_dense_adj(data.edge_index)[0]         # matriz de adjacência densa\n",
        "X = data.x                                   # features dos nós (dim: N x F)\n",
        "Y = data.y                                   # rótulos reais dos nós\n",
        "\n",
        "# Adiciona self-loops (identidade)\n",
        "I = torch.eye(A.size(0))\n",
        "A_hat = A + I\n",
        "\n",
        "# Normalização simétrica: D^-1/2 * A_hat * D^-1/2\n",
        "D_hat = torch.diag(torch.sum(A_hat, dim=1))\n",
        "D_hat_inv_sqrt = torch.linalg.inv(torch.sqrt(D_hat))\n",
        "A_norm = D_hat_inv_sqrt @ A_hat @ D_hat_inv_sqrt"
      ]
    },
    {
      "cell_type": "code",
      "execution_count": null,
      "metadata": {
        "id": "Y8_Wsy29-Qp_"
      },
      "outputs": [],
      "source": [
        "# -----------------------------------------------\n",
        "# Definir as classes da GCN\n",
        "# -----------------------------------------------\n",
        "class GCNLayer(nn.Module):\n",
        "  \"\"\"Camada de convolução em grafo: propaga informações entre vizinhos.\"\"\"\n",
        "  def __init__(self, in_features, out_features):\n",
        "    super(GCNLayer, self).__init__()\n",
        "    self.linear = nn.Linear(in_features, out_features)\n",
        "  def forward(self, X, A_norm):\n",
        "    # Multiplicação pela matriz normalizada mistura informações dos vizinhos\n",
        "    return self.linear(A_norm @ X)\n",
        "\n",
        "class GCN(nn.Module):\n",
        "  \"\"\"Rede de duas camadas GCN para classificação de nós.\"\"\"\n",
        "  def __init__(self, in_features, hidden_size, num_classes, dropout=0.5):\n",
        "    super(GCN, self).__init__()\n",
        "    self.gcn1 = GCNLayer(in_features, hidden_size)\n",
        "    self.gcn2 = GCNLayer(hidden_size, num_classes)\n",
        "    self.dropout = nn.Dropout(dropout)\n",
        "  def forward(self, X, A_norm):\n",
        "    h = F.relu(self.gcn1(X, A_norm))   # primeira camada com ReLU\n",
        "    h = self.dropout(h)                # regularização\n",
        "    out = self.gcn2(h, A_norm)         # logits finais\n",
        "    return out"
      ]
    },
    {
      "cell_type": "code",
      "execution_count": null,
      "metadata": {
        "id": "wQfhaMLI-g3r"
      },
      "outputs": [],
      "source": [
        "# -----------------------------------------------\n",
        "# Divisão treino / validação / teste\n",
        "# -----------------------------------------------\n",
        "num_nodes = X.shape[0]\n",
        "idx_all = np.arange(num_nodes)\n",
        "np.random.shuffle(idx_all)\n",
        "\n",
        "train_end = int(0.6 * num_nodes)\n",
        "val_end = int(0.8 * num_nodes)\n",
        "train_idx = idx_all[:train_end]\n",
        "val_idx = idx_all[train_end:val_end]\n",
        "test_idx = idx_all[val_end:]"
      ]
    },
    {
      "cell_type": "code",
      "execution_count": null,
      "metadata": {
        "id": "d6k8PYA_-jZj"
      },
      "outputs": [],
      "source": [
        "# -----------------------------------------------\n",
        "# Configurações de treino\n",
        "# -----------------------------------------------\n",
        "model = GCN(in_features=X.shape[1], hidden_size=32, num_classes=dataset.num_classes)\n",
        "optimizer = optim.Adam(model.parameters(), lr=0.01, weight_decay=5e-4)\n",
        "criterion = nn.CrossEntropyLoss()\n",
        "\n",
        "max_epochs = 500\n",
        "patience = 20\n",
        "monitor = 'val_loss'   # pode alternar para 'val_acc'\n",
        "\n",
        "best_state = None\n",
        "best_metric = float('inf') if monitor == 'val_loss' else -float('inf')\n",
        "epochs_no_improve = 0\n",
        "\n",
        "train_losses, val_losses = [], []\n",
        "train_accs, val_accs = [], []\n",
        "\n",
        "# Função de avaliação\n",
        "def evaluate_model(model, X, A_norm, idx):\n",
        "  model.eval()\n",
        "  with torch.no_grad():\n",
        "    out = model(X, A_norm)\n",
        "    loss = criterion(out[idx], Y[idx]).item()\n",
        "    preds = out[idx].argmax(dim=1)\n",
        "    acc = (preds == Y[idx]).float().mean().item()\n",
        "  return loss, acc, preds"
      ]
    },
    {
      "cell_type": "code",
      "execution_count": null,
      "metadata": {
        "colab": {
          "base_uri": "https://localhost:8080/"
        },
        "id": "eM6RynF8-qpc",
        "outputId": "e27153f4-57d4-4bc7-c419-fe1cdcd08434"
      },
      "outputs": [],
      "source": [
        "# -----------------------------------------------\n",
        "# Loop de treino com Early Stopping\n",
        "# -----------------------------------------------\n",
        "for epoch in range(1, max_epochs + 1):\n",
        "  model.train()\n",
        "  optimizer.zero_grad()\n",
        "\n",
        "  out = model(X, A_norm)\n",
        "  loss = criterion(out[train_idx], Y[train_idx])\n",
        "  loss.backward()\n",
        "  optimizer.step()\n",
        "\n",
        "  train_loss, train_acc, _ = evaluate_model(model, X, A_norm, train_idx)\n",
        "  val_loss, val_acc, _ = evaluate_model(model, X, A_norm, val_idx)\n",
        "\n",
        "  train_losses.append(train_loss)\n",
        "  val_losses.append(val_loss)\n",
        "  train_accs.append(train_acc)\n",
        "  val_accs.append(val_acc)\n",
        "\n",
        "  # Verifica melhora\n",
        "  current_metric = val_loss if monitor == 'val_loss' else val_acc\n",
        "  improved = (current_metric < best_metric) if monitor == 'val_loss' else (current_metric > best_metric)\n",
        "\n",
        "  if improved:\n",
        "    best_metric = current_metric\n",
        "    best_state = copy.deepcopy(model.state_dict())\n",
        "    epochs_no_improve = 0\n",
        "  else:\n",
        "    epochs_no_improve += 1\n",
        "\n",
        "  if epoch % 10 == 0 or epoch == 1:\n",
        "    print(f\"Epoch {epoch:03d} | Train Loss: {train_loss:.4f} | Val Loss: {val_loss:.4f} | \"\n",
        "          f\"Train Acc: {train_acc:.4f} | Val Acc: {val_acc:.4f} | Patience: {epochs_no_improve}\")\n",
        "\n",
        "  if epochs_no_improve >= patience:\n",
        "    print(f\"Early stopping na epoch {epoch}. Melhor {monitor}: {best_metric:.4f}\")\n",
        "    break\n",
        "\n",
        "# Restaura melhor modelo\n",
        "if best_state is not None:\n",
        "  model.load_state_dict(best_state)"
      ]
    },
    {
      "cell_type": "code",
      "execution_count": null,
      "metadata": {
        "colab": {
          "base_uri": "https://localhost:8080/"
        },
        "id": "ccz_p7jXALOI",
        "outputId": "e4fad677-b451-404c-9e6d-bc8c497b43bc"
      },
      "outputs": [],
      "source": [
        "# -----------------------------------------------\n",
        "# Avaliação final no conjunto de teste\n",
        "# -----------------------------------------------\n",
        "test_loss, test_acc, test_preds = evaluate_model(model, X, A_norm, test_idx)\n",
        "print(f\"\\n✅ Teste | Loss: {test_loss:.4f} | Acc: {test_acc:.4f}\")"
      ]
    },
    {
      "cell_type": "code",
      "execution_count": null,
      "metadata": {
        "colab": {
          "base_uri": "https://localhost:8080/",
          "height": 411
        },
        "id": "n9fejYzE-9hm",
        "outputId": "e2270189-90e7-42c7-d7b8-1d71e32c4a89"
      },
      "outputs": [],
      "source": [
        "# -----------------------------------------------\n",
        "# Visualização dos resultados\n",
        "# -----------------------------------------------\n",
        "plt.figure(figsize=(12,4))\n",
        "\n",
        "plt.subplot(1,2,1)\n",
        "plt.plot(train_losses, label='Treino')\n",
        "plt.plot(val_losses, label='Validação')\n",
        "plt.title(\"Loss (Treino vs Validação)\")\n",
        "plt.xlabel(\"Epoch\")\n",
        "plt.ylabel(\"Loss\")\n",
        "plt.legend()\n",
        "\n",
        "plt.subplot(1,2,2)\n",
        "plt.plot(train_accs, label='Treino')\n",
        "plt.plot(val_accs, label='Validação')\n",
        "plt.title(\"Acurácia (Treino vs Validação)\")\n",
        "plt.xlabel(\"Epoch\")\n",
        "plt.ylabel(\"Acurácia\")\n",
        "plt.legend()\n",
        "\n",
        "plt.show()"
      ]
    },
    {
      "cell_type": "code",
      "execution_count": null,
      "metadata": {
        "colab": {
          "base_uri": "https://localhost:8080/",
          "height": 507
        },
        "id": "JEtGP8VM_bMN",
        "outputId": "ac04fefe-1e17-4a3e-9b00-a0f5f1c0a243"
      },
      "outputs": [],
      "source": [
        "# -----------------------------------------------\n",
        "# Comparar grafo real vs grafo predito\n",
        "# -----------------------------------------------\n",
        "G = nx.Graph()\n",
        "edges = data.edge_index.t().tolist()\n",
        "G.add_edges_from(edges)\n",
        "\n",
        "# Layout fixo para comparação\n",
        "pos = nx.spring_layout(G, seed=42)\n",
        "\n",
        "# Classes reais e preditas\n",
        "true_labels = Y.cpu().numpy()\n",
        "pred_labels = test_preds.cpu().numpy()\n",
        "\n",
        "# -----------------------------\n",
        "# Grafo 1: Classes reais\n",
        "# -----------------------------\n",
        "plt.figure(figsize=(14, 6))\n",
        "\n",
        "plt.subplot(1, 2, 1)\n",
        "nx.draw(\n",
        "    G,\n",
        "    pos,\n",
        "    node_color=true_labels,\n",
        "    cmap=plt.cm.tab10,\n",
        "    node_size=50,\n",
        "    linewidths=0.2\n",
        ")\n",
        "plt.title(\"Classes Reais (rótulos verdadeiros)\")\n",
        "\n",
        "# -----------------------------\n",
        "# Grafo 2: Classes preditas\n",
        "# -----------------------------\n",
        "node_colors = np.array([\"#cccccc\"] * len(true_labels))\n",
        "\n",
        "cmap = plt.cm.tab10\n",
        "for i, idx in enumerate(test_idx):\n",
        "    color = cmap(pred_labels[i] / (max(pred_labels) if max(pred_labels) > 0 else 1))\n",
        "    node_colors[idx] = mcolors.rgb2hex(color[:3])  # conversão correta\n",
        "\n",
        "plt.subplot(1, 2, 2)\n",
        "nx.draw(\n",
        "    G,\n",
        "    pos,\n",
        "    node_color=node_colors,\n",
        "    node_size=50,\n",
        "    linewidths=0.2\n",
        ")\n",
        "plt.title(\"Classes Preditas (modelo GCN)\")\n",
        "\n",
        "plt.show()"
      ]
    },
    {
      "cell_type": "code",
      "execution_count": null,
      "metadata": {
        "colab": {
          "base_uri": "https://localhost:8080/",
          "height": 472
        },
        "id": "oRdad6WZCu-i",
        "outputId": "f454237e-6caf-4962-8f6a-feb8657601ee"
      },
      "outputs": [],
      "source": [
        "cm = confusion_matrix(Y[test_idx], test_preds)\n",
        "disp = ConfusionMatrixDisplay(cm)\n",
        "disp.plot(cmap='Blues')\n",
        "plt.title(\"Matriz de Confusão - Teste\")\n",
        "plt.show()"
      ]
    }
  ],
  "metadata": {
    "colab": {
      "provenance": []
    },
    "kernelspec": {
      "display_name": "Python 3",
      "name": "python3"
    },
    "language_info": {
      "name": "python"
    }
  },
  "nbformat": 4,
  "nbformat_minor": 0
}
